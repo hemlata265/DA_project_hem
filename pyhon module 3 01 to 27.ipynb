{
 "cells": [
  {
   "cell_type": "code",
   "execution_count": 2,
   "id": "ba0e4293",
   "metadata": {},
   "outputs": [
    {
     "name": "stdout",
     "output_type": "stream",
     "text": [
      "[1, 2, 3, 4, 5, 6, 7]\n",
      "[7, 6, 5, 4, 3, 2, 1]\n"
     ]
    }
   ],
   "source": [
    "## 1.what is list ? how will you reverse a list?\n",
    "\n",
    "## A list is a data structure in python that is mutable, changeable,ordered sequence of elements.\n",
    "## using reverse method ,slicing method ex:\n",
    "l1=[1,2,3,4,5,6,7]\n",
    "##l1.reverse()\n",
    "print(l1)\n",
    "l2=l1[::-1]\n",
    "print(l2)"
   ]
  },
  {
   "cell_type": "code",
   "execution_count": 10,
   "id": "3c60fe1d",
   "metadata": {},
   "outputs": [
    {
     "name": "stdout",
     "output_type": "stream",
     "text": [
      "div\n",
      "['shail', 'heli', 'heta', 'hem']\n"
     ]
    }
   ],
   "source": [
    "## 2.How will you remove last object from a list?\n",
    "\n",
    "l1=[\"shail\",\"heli\",\"heta\",\"hem\",\"div\"]\n",
    "l2=l1.pop()\n",
    "print(l2)\n",
    "print(l1)\n"
   ]
  },
  {
   "cell_type": "code",
   "execution_count": 11,
   "id": "5d3add62",
   "metadata": {},
   "outputs": [
    {
     "data": {
      "text/plain": [
       "25"
      ]
     },
     "execution_count": 11,
     "metadata": {},
     "output_type": "execute_result"
    }
   ],
   "source": [
    "## 3.Suppose list1 is [2, 33, 222, 14, and 25], what is list1 [-1]?\n",
    "\n",
    "l1 = [2,33,222,14,25]\n",
    "l1[-1]\n"
   ]
  },
  {
   "cell_type": "code",
   "execution_count": 12,
   "id": "9b7f4958",
   "metadata": {},
   "outputs": [
    {
     "data": {
      "text/plain": [
       "[2, 'hem', 'shail', [44, 66], 45, 56]"
      ]
     },
     "execution_count": 12,
     "metadata": {},
     "output_type": "execute_result"
    }
   ],
   "source": [
    "## 4Differentiate between append () and extend () methods? add the values\n",
    "\n",
    "# 1. Aappend function in python adds a single element to the end of the list,\n",
    "#    Extend function in a python adds multiple elements from an itereble to the list.\n",
    "\n",
    "# 2. append takes single element as an argument\n",
    "#    extend takes itetable as an argument\n",
    "#ex:append\n",
    "l1=[2,'hem','shail',[44,66],45]\n",
    "l1.append(56)\n",
    "l1"
   ]
  },
  {
   "cell_type": "code",
   "execution_count": 13,
   "id": "8aa22571",
   "metadata": {},
   "outputs": [
    {
     "data": {
      "text/plain": [
       "[2, 'hem', 'shail', [44, 66], 45, 3, 'aim', 34]"
      ]
     },
     "execution_count": 13,
     "metadata": {},
     "output_type": "execute_result"
    }
   ],
   "source": [
    "#ex: extend\n",
    "\n",
    "l1=[2,'hem','shail',[44,66],45]\n",
    "l1.extend([3,\"aim\",34])\n",
    "l1"
   ]
  },
  {
   "cell_type": "code",
   "execution_count": 16,
   "id": "bb606c9f",
   "metadata": {},
   "outputs": [
    {
     "name": "stdout",
     "output_type": "stream",
     "text": [
      "67\n",
      "1\n",
      "149\n"
     ]
    }
   ],
   "source": [
    "##5.Write a Python function to get the largest number, smallest num and sum \n",
    "#of all from a list.\n",
    "\n",
    "#largest number\n",
    "l1=[1,22,4,46,67,9]\n",
    "print(max(l1))\n",
    "minn=min(l1)\n",
    "print(minn)\n",
    "summ=sum(l1)\n",
    "print(summ)"
   ]
  },
  {
   "cell_type": "code",
   "execution_count": 26,
   "id": "652df3c0",
   "metadata": {},
   "outputs": [
    {
     "name": "stdout",
     "output_type": "stream",
     "text": [
      "[4, 5, 11, 12, 46]\n",
      "[4, 5, 11, 12, 46]\n",
      "equal\n"
     ]
    }
   ],
   "source": [
    "## 6. how will you compare two list\n",
    "\n",
    "l1=[11,12,4,46,5]\n",
    "l2=[11,12,4,46,5]\n",
    "\n",
    "l11=sorted(l1)\n",
    "l22=sorted(l2)\n",
    "print(l11)\n",
    "print(l22)\n",
    "if(l11==l22):\n",
    "    print(\"equal\")\n",
    "else:\n",
    "    print(\"not equal\")\n",
    "\n"
   ]
  },
  {
   "cell_type": "code",
   "execution_count": 29,
   "id": "84a05d56",
   "metadata": {},
   "outputs": [
    {
     "name": "stdout",
     "output_type": "stream",
     "text": [
      "the first and last character string is 2\n"
     ]
    }
   ],
   "source": [
    "## 7.Write a Python program to count the number of strings where the string \n",
    "#length is 2 or more and the first and last character are same from a given \n",
    "#list of strings. \n",
    "words= ['hell','lshail','matam','kaya','hh']\n",
    "count=0\n",
    "for word in words:\n",
    "    if len(word)>2 and word[0]==word[-1]:\n",
    "        count+=1\n",
    "print('The first and last character string is',count)"
   ]
  },
  {
   "cell_type": "code",
   "execution_count": 16,
   "id": "54c9ea28",
   "metadata": {},
   "outputs": [
    {
     "name": "stdout",
     "output_type": "stream",
     "text": [
      "{40, 10, 50, 20, 30}\n"
     ]
    }
   ],
   "source": [
    "##8.Write a Python program to remove duplicates from a list.\n",
    "\n",
    "l1=[10,20,20,30,50,40]\n",
    "\n",
    "l=set(l1)\n",
    "print(l)\n"
   ]
  },
  {
   "cell_type": "code",
   "execution_count": 17,
   "id": "194b79e0",
   "metadata": {},
   "outputs": [
    {
     "name": "stdout",
     "output_type": "stream",
     "text": [
      "the list is empty\n"
     ]
    }
   ],
   "source": [
    "#9) write a python program to chack a list is empty or not.\n",
    "\n",
    "list1=[]\n",
    "\n",
    "if len(list1)==0:\n",
    "    print(\"the list is empty\")\n",
    "else:\n",
    "    print(\"the list is not empty\")\n",
    "    \n"
   ]
  },
  {
   "cell_type": "code",
   "execution_count": 8,
   "id": "910e421a",
   "metadata": {},
   "outputs": [
    {
     "data": {
      "text/plain": [
       "True"
      ]
     },
     "execution_count": 8,
     "metadata": {},
     "output_type": "execute_result"
    }
   ],
   "source": [
    "##10.Write a Python function that takes two lists and returns true if they have \n",
    "#at least one common member.\n",
    "def common_data(list1,list2):\n",
    "    result=False\n",
    "    \n",
    "    for i in list1:\n",
    "        for j in list2:\n",
    "            if(i==j):\n",
    "                result=True\n",
    "                return result\n",
    "\n",
    "\n",
    "common_data([1,2,3,4,5],[5,6,7,8,9])\n"
   ]
  },
  {
   "cell_type": "code",
   "execution_count": 10,
   "id": "36daad70",
   "metadata": {},
   "outputs": [
    {
     "name": "stdout",
     "output_type": "stream",
     "text": [
      "[1, 4, 9, 16, 25]\n",
      "[676, 729, 784, 841, 900]\n"
     ]
    }
   ],
   "source": [
    "## 11.Write a Python program to generate and print a list of first and last 5 \n",
    "#elements where the values are square of numbers between 1 and 30.\n",
    "\n",
    "def squre_value():\n",
    "    l=list()\n",
    "    for i in range(1,31):\n",
    "        l.append(i**2)\n",
    "    print(l[:5])\n",
    "    \n",
    "    print(l[-5:])\n",
    "squre_value()"
   ]
  },
  {
   "cell_type": "code",
   "execution_count": 12,
   "id": "84fceb7a",
   "metadata": {},
   "outputs": [
    {
     "data": {
      "text/plain": [
       "[2, 5, 6, 7, 4, 3, 8, 9]"
      ]
     },
     "execution_count": 12,
     "metadata": {},
     "output_type": "execute_result"
    }
   ],
   "source": [
    "## 13.Write a Python function that takes a list and returns a new list with unique elements of the first list.\n",
    "def unique_list(l):\n",
    "    x=[]\n",
    "    for i in l:\n",
    "        if i not in x:\n",
    "            x.append(i)\n",
    "            \n",
    "    return x\n",
    "unique_list([2,5,6,7,5,4,3,8,9,2,8,8,9,9])\n"
   ]
  },
  {
   "cell_type": "code",
   "execution_count": 13,
   "id": "990cbc89",
   "metadata": {},
   "outputs": [
    {
     "data": {
      "text/plain": [
       "'heli'"
      ]
     },
     "execution_count": 13,
     "metadata": {},
     "output_type": "execute_result"
    }
   ],
   "source": [
    "##Write a Python program to convert a list of characters into a string.\n",
    "\n",
    "list1=('h','e','l','i')\n",
    "list2=''.join(list1)\n",
    "list2\n"
   ]
  },
  {
   "cell_type": "code",
   "execution_count": 14,
   "id": "fc101629",
   "metadata": {},
   "outputs": [
    {
     "name": "stdout",
     "output_type": "stream",
     "text": [
      "Black\n"
     ]
    }
   ],
   "source": [
    "##Write a Python program to select an item randomly from a list.\n",
    "\n",
    "import random\n",
    "color_list = ['Red', 'Blue', 'Green', 'White', 'Black']\n",
    "print(random.choice(color_list))"
   ]
  },
  {
   "cell_type": "code",
   "execution_count": 20,
   "id": "e528f2b4",
   "metadata": {},
   "outputs": [
    {
     "name": "stdout",
     "output_type": "stream",
     "text": [
      "Largest element is: 95\n",
      "Smallest element is: 4\n",
      "Second Largest element is: 56\n",
      "Second Smallest element is: 6\n"
     ]
    }
   ],
   "source": [
    "##Write a Python program to find the second smallest number in a list.\n",
    "# Python prog to illustrate the following in a list\n",
    "def find_len(list1):\n",
    "    length = len(list1)\n",
    "    list1.sort()\n",
    "    print(\"Largest element is:\", list1[length-1])\n",
    "    print(\"Smallest element is:\", list1[0])\n",
    "    print(\"Second Largest element is:\", list1[length-2])\n",
    "    print(\"Second Smallest element is:\", list1[1])\n",
    "\n",
    "\n",
    "list1=[56,95,42, 4, 33,22,55, 6, 14]\n",
    "Largest = find_len(list1)\n",
    "\n"
   ]
  },
  {
   "cell_type": "code",
   "execution_count": 21,
   "id": "49dd1134",
   "metadata": {},
   "outputs": [
    {
     "name": "stdout",
     "output_type": "stream",
     "text": [
      "True\n",
      "False\n"
     ]
    }
   ],
   "source": [
    "## 18.Write a Python program to check whether a list contains a sub list.\n",
    "\n",
    "def is_sublist(l, s):\n",
    "    sub_set = False\n",
    "    if s == []:\n",
    "        sub_set = True\n",
    "    elif s == l:\n",
    "        sub_set = True\n",
    "    elif len(s) > len(l):\n",
    "        sub_set = False\n",
    "\n",
    "    else:\n",
    "        for i in range(len(l)):\n",
    "            if l[i] == s[0]:\n",
    "                n = 1\n",
    "                while (n < len(s)) and (l[i+n] == s[n]):\n",
    "                        n += 1\n",
    "                        if n == len(s):\n",
    "                            sub_set = True\n",
    "                            \n",
    "    return sub_set\n",
    "\n",
    "l = [1, 2, 3, 4, 5]\n",
    "s = [2, 3]\n",
    "print(is_sublist(l,s))\n",
    "\n",
    "\n",
    "l = ['a', 'b', 'c', 'd']\n",
    "s = ['b', 'c', 'e']\n",
    "print(is_sublist(s,l)) "
   ]
  },
  {
   "cell_type": "code",
   "execution_count": 5,
   "id": "41ef5021",
   "metadata": {},
   "outputs": [
    {
     "name": "stdout",
     "output_type": "stream",
     "text": [
      "mango\n",
      "cherry\n",
      "apple\n"
     ]
    }
   ],
   "source": [
    "##19.Write a Python program to split a list into different variables.\n",
    "\n",
    "fruit=[(\"mango\"),(\"cherry\"),\"apple\"]\n",
    "var1,var2,var3=fruit\n",
    "print(var1)\n",
    "print(var2)\n",
    "print(var3)"
   ]
  },
  {
   "cell_type": "code",
   "execution_count": null,
   "id": "093e2123",
   "metadata": {},
   "outputs": [],
   "source": [
    "#20.What is tuple? Difference between list and tuple.\n",
    "\n",
    "#->tuple are multiple items in a singal variable in one store.\n",
    "#->tuple and kry differnce of key and tuple are immmuatable while list is mutable.\n",
    "#->tuples are also more memmory efficient than the list\n"
   ]
  },
  {
   "cell_type": "code",
   "execution_count": 10,
   "id": "ef906ed4",
   "metadata": {},
   "outputs": [
    {
     "name": "stdout",
     "output_type": "stream",
     "text": [
      "('hem', True, 'shail', 5.7, 85)\n"
     ]
    }
   ],
   "source": [
    "#21.Write a Python program to create a tuple with different data types.\n",
    "\n",
    "tup=(\"hem\",True,'shail',5.7,85)\n",
    "print(tup)\n"
   ]
  },
  {
   "cell_type": "code",
   "execution_count": 14,
   "id": "c3b45ece",
   "metadata": {},
   "outputs": [
    {
     "name": "stdout",
     "output_type": "stream",
     "text": [
      "(23, 35, 65, 34, 8)\n"
     ]
    }
   ],
   "source": [
    "#21.Write a Python program to create a tuple with numbers.\n",
    "\n",
    "t1=(23,35,65,34,8)\n",
    "print(t1)"
   ]
  },
  {
   "cell_type": "code",
   "execution_count": 17,
   "id": "66b30080",
   "metadata": {},
   "outputs": [
    {
     "name": "stdout",
     "output_type": "stream",
     "text": [
      "hemltakosmbia\n"
     ]
    }
   ],
   "source": [
    "#22.Write a Python program to convert a tuple to a string.\n",
    "\n",
    "tuple1=['h','e','m','l','t','a','ko','s','m','b','i','a'] \n",
    "str1= ''.join(tuple1)\n",
    "print(str1)"
   ]
  },
  {
   "cell_type": "code",
   "execution_count": 19,
   "id": "c5e8b1ad",
   "metadata": {},
   "outputs": [
    {
     "name": "stdout",
     "output_type": "stream",
     "text": [
      "True\n",
      "False\n",
      "True\n"
     ]
    }
   ],
   "source": [
    "#23.Write a Python program to check whether an element exists within a tuple.\n",
    "\n",
    "tuple=(\"hem\",\"lata\",66,7.8)\n",
    "print(\"hem\" in tuple)\n",
    "print(\"hnj\" in tuple)\n",
    "print(66 in tuple)\n"
   ]
  },
  {
   "cell_type": "code",
   "execution_count": 20,
   "id": "ebb073e8",
   "metadata": {},
   "outputs": [
    {
     "name": "stdout",
     "output_type": "stream",
     "text": [
      "9\n"
     ]
    }
   ],
   "source": [
    "#24.Write a Python program to find the length of a tuple.\n",
    "\n",
    "tuple=\"kosambiya\"\n",
    "count=0\n",
    "while tuple[count:]:\n",
    "    count=count+1\n",
    "print(count)\n"
   ]
  },
  {
   "cell_type": "code",
   "execution_count": 43,
   "id": "5db3615e",
   "metadata": {},
   "outputs": [
    {
     "name": "stdout",
     "output_type": "stream",
     "text": [
      "['h', 'e', 'm']\n",
      "('h', 'e', 'm')\n"
     ]
    }
   ],
   "source": [
    "#25.Write a Python program to convert a list to a tuple.\n",
    "\n",
    "l=[\"h\",\"e\",\"m\"]\n",
    "print(l)\n",
    "t=(*l,)\n",
    "print(t)\n",
    "\n",
    "\n"
   ]
  },
  {
   "cell_type": "code",
   "execution_count": 58,
   "id": "02974235",
   "metadata": {},
   "outputs": [
    {
     "name": "stdout",
     "output_type": "stream",
     "text": [
      "(7, 6, 5, 4, 3, 2, 2, 1)\n"
     ]
    }
   ],
   "source": [
    "#26.Write a Python program to reverse a tuple.\n",
    "\n",
    "tup1= (1,2,2,3,4,5,6,7)\n",
    "tup2=tup1[::-1]\n",
    "\n",
    "print(tup2)\n"
   ]
  },
  {
   "cell_type": "code",
   "execution_count": 61,
   "id": "eeedea7d",
   "metadata": {},
   "outputs": [
    {
     "name": "stdout",
     "output_type": "stream",
     "text": [
      "[(10, 20, 5), (40, 50, 5), (70, 80, 5)]\n"
     ]
    }
   ],
   "source": [
    "##.Write a Python program to replace last value of tuples in a list.\n",
    "\n",
    "l = [(10, 20, 40), (40, 50, 60), (70, 80, 90)]\n",
    "##print([f[:-1] + (100,) for f in l ])\n",
    "print([(*t[:-1],5) for t in l])"
   ]
  }
 ],
 "metadata": {
  "kernelspec": {
   "display_name": "Python 3 (ipykernel)",
   "language": "python",
   "name": "python3"
  },
  "language_info": {
   "codemirror_mode": {
    "name": "ipython",
    "version": 3
   },
   "file_extension": ".py",
   "mimetype": "text/x-python",
   "name": "python",
   "nbconvert_exporter": "python",
   "pygments_lexer": "ipython3",
   "version": "3.11.5"
  }
 },
 "nbformat": 4,
 "nbformat_minor": 5
}
