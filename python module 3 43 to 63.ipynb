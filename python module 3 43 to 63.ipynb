{
 "cells": [
  {
   "cell_type": "code",
   "execution_count": null,
   "id": "256b29e0",
   "metadata": {},
   "outputs": [],
   "source": [
    "## 43.why do you use the zip() method in python?\n",
    "#python is s zip() function creates an iterator that will aggregate element from two or more iteeable\n",
    "#the zip() function in python is used to combine two or more itrebles dictionaries into a single itrerable,when corresponding elements from the input iterable paired together as tupels\n",
    "\n",
    "## The zip() function return a zip object, which is an iterator of tupels where the first item in each\n",
    "## passed iterator is paired together,and then the seconditem in each passed iterator are paired together\n",
    "## use:Zip is an in-built function in python used to iterate over multiple iterable.as an argument and\n",
    "## aggregate  them together by taking elements fom each itterable passed as argument.\n",
    "\n",
    "s1 = {2, 3, 1}\n",
    "s2 = {'b', 'a', 'c'}\n",
    "list(zip(s1, s2))\n"
   ]
  },
  {
   "cell_type": "code",
   "execution_count": 3,
   "id": "64bb2326",
   "metadata": {},
   "outputs": [
    {
     "name": "stdout",
     "output_type": "stream",
     "text": [
      "ax\n",
      "ay\n",
      "bx\n",
      "by\n"
     ]
    }
   ],
   "source": [
    "## 44.Write a Python program to create and display all combinations of letters,selecting each letter from a different key in a dictionary.\n",
    "\n",
    "##d ={'1':['a','b'], '2':['c','d']}\n",
    "d={'1':['a','b'],'2':['x','y'],'3':['u','t']}\n",
    "l=list(d.values())\n",
    "for i in l[0]:\n",
    "    for j in l[1]:\n",
    "        print(i+j)\n",
    "    \n"
   ]
  },
  {
   "cell_type": "code",
   "execution_count": 4,
   "id": "64f3ea1d",
   "metadata": {},
   "outputs": [
    {
     "name": "stdout",
     "output_type": "stream",
     "text": [
      "e : 50090  \n",
      "b : 40990  \n",
      "d : 3000  \n"
     ]
    }
   ],
   "source": [
    "## 45.Write a Python program to find the highest 3 values in a dictionary.\n",
    "from collections import Counter\n",
    "\n",
    "d1={'a':500,'b':40990,'c':400,'d':3000,'e':50090}\n",
    "\n",
    "c=Counter(d1)\n",
    "\n",
    "high=c.most_common(3)\n",
    "for i in high:\n",
    "    print(i[0],\":\",i[1],\" \")\n"
   ]
  },
  {
   "cell_type": "code",
   "execution_count": 5,
   "id": "91907fc2",
   "metadata": {},
   "outputs": [
    {
     "name": "stdout",
     "output_type": "stream",
     "text": [
      "Counter({'i3': 750, 'i2': 500, 'i1': 400})\n"
     ]
    }
   ],
   "source": [
    "## 46 Write a Python program to combine values in python list of dictionaries.\n",
    "\n",
    "from collections import Counter\n",
    "i_list=[{'i':'i1','amount':400},{'i':'i2','amount':500},{'i':'i3','amount':750}]\n",
    "result=Counter()\n",
    "for d in i_list:\n",
    "        result[d['i']] += d['amount']\n",
    "print(result)\n"
   ]
  },
  {
   "cell_type": "code",
   "execution_count": 6,
   "id": "81d01c32",
   "metadata": {},
   "outputs": [
    {
     "name": "stdout",
     "output_type": "stream",
     "text": [
      "enter a stringhemlataparmar\n",
      "h : 1\n",
      "e : 1\n",
      "m : 2\n",
      "l : 1\n",
      "a : 4\n",
      "t : 1\n",
      "p : 1\n",
      "r : 2\n",
      "{'h': 1, 'e': 1, 'm': 2, 'l': 1, 'a': 4, 't': 1, 'p': 1, 'r': 2}\n"
     ]
    }
   ],
   "source": [
    "## 47. Write a Python program to create a dictionary from a string.\n",
    "## Note: Track the count of the letters from the string. \n",
    "##Sample string:\n",
    "\n",
    "str1=input(\"enter a string\")\n",
    "dic={}\n",
    "for ch in str1:\n",
    "    if ch in dic:\n",
    "        dic[ch]+=1\n",
    "    else:\n",
    "        dic[ch]=1\n",
    "for key in dic:\n",
    "    print(key,':',dic[key])\n",
    "print(dic)"
   ]
  },
  {
   "cell_type": "code",
   "execution_count": 5,
   "id": "916e3cbb",
   "metadata": {},
   "outputs": [
    {
     "name": "stdout",
     "output_type": "stream",
     "text": [
      "Enter the num:5\n",
      "Factorial of  5\n"
     ]
    },
    {
     "data": {
      "text/plain": [
       "120"
      ]
     },
     "execution_count": 5,
     "metadata": {},
     "output_type": "execute_result"
    }
   ],
   "source": [
    "## 48.Write a Python function to calculate the factorial of a number.\n",
    "\n",
    "#from math import factorial\n",
    "#factorial(4)\n",
    "def fact(n):\n",
    "    \n",
    "    if(n==0 or n==1):\n",
    "        return 1;\n",
    "    else:\n",
    "        res=1\n",
    "        while(n>1):\n",
    "            res=res*n\n",
    "            n=n-1\n",
    "        return res\n",
    "num=int(input(\"Enter the num:\\n\"))\n",
    "print(\"Factorial of \",num)\n",
    "fact(num)\n"
   ]
  },
  {
   "cell_type": "code",
   "execution_count": 8,
   "id": "ae8cb5d2",
   "metadata": {},
   "outputs": [
    {
     "name": "stdout",
     "output_type": "stream",
     "text": [
      "enter the number:56\n",
      "the number is outof the given range\n"
     ]
    }
   ],
   "source": [
    "## 49.Write a Python function to check whether a number is in a given range.\n",
    "\n",
    "def range1(n):\n",
    "    if n in range(1,10 ):\n",
    "        print(n,\"is in the range\")\n",
    "    else:\n",
    "         print(\"the number is outof the given range\")\n",
    "            \n",
    "num=int(input(\"enter the number:\"))\n",
    "range1(num)\n",
    "\n"
   ]
  },
  {
   "cell_type": "code",
   "execution_count": 9,
   "id": "95181219",
   "metadata": {},
   "outputs": [
    {
     "name": "stdout",
     "output_type": "stream",
     "text": [
      "enter the number:6\n",
      "6 is perfect num\n"
     ]
    }
   ],
   "source": [
    "## 50.Write a Python function to check whether a number is perfect or not.\n",
    "\n",
    "def perfect_num(n):\n",
    "    sum = 0\n",
    "    for x in range(1, n):\n",
    "        if n % x == 0:\n",
    "            sum += x\n",
    "    return sum == n\n",
    "num=int(input(\"enter the number:\"))\n",
    "perfect_num(num)\n",
    "print(num,\"is perfect num\")"
   ]
  },
  {
   "cell_type": "code",
   "execution_count": 10,
   "id": "3ae932a1",
   "metadata": {},
   "outputs": [
    {
     "name": "stdout",
     "output_type": "stream",
     "text": [
      "Enter a String : arora\n",
      "String is a palindrome string\n"
     ]
    }
   ],
   "source": [
    "## 51.Write a Python function that checks whether a passed string is palindrome or not.\n",
    "def pel(string):\n",
    "    if string[::-1] == string: \n",
    "        return print(\"String is a palindrome string\")\n",
    "    return print('Not palindrome')\n",
    "s = input('Enter a String : ')\n",
    "pel(s)\n"
   ]
  },
  {
   "cell_type": "code",
   "execution_count": null,
   "id": "efddf52f",
   "metadata": {},
   "outputs": [],
   "source": [
    "##52.How do you perform pattern matching in Python? Explain\n",
    "\n",
    "\n",
    "\n"
   ]
  },
  {
   "cell_type": "code",
   "execution_count": null,
   "id": "830ee027",
   "metadata": {},
   "outputs": [],
   "source": [
    "#53)What is lambda function in python? What we call a function which is incomplete version of a function?\n",
    "x = lambda a,b,*c : a + b + sum(c)\n",
    "x(2,4,10,10,10)"
   ]
  },
  {
   "cell_type": "code",
   "execution_count": null,
   "id": "37119fee",
   "metadata": {},
   "outputs": [],
   "source": [
    "##.54How Many Basic Types Of Functions Are Available In Python?\n",
    "##user define function  in-bult function:\n",
    "    #eval,filter,map,zip\n",
    "#2) user difine function:\n",
    "    #def ,\n",
    "    #defiene argument\n",
    "    #keyword parameter\n",
    "    #arebitry keywords argument\n",
    "    "
   ]
  },
  {
   "cell_type": "code",
   "execution_count": null,
   "id": "6911b1b7",
   "metadata": {},
   "outputs": [],
   "source": [
    "#55)How can you pick a random item from a list or tuple?\n",
    "\n",
    "#example:\n",
    "\n",
    "import random as r\n",
    "l1=[1,2,3,45,67,66,88,76,78,665,997]\n",
    "r.choice(l1)"
   ]
  },
  {
   "cell_type": "code",
   "execution_count": null,
   "id": "5d6f6765",
   "metadata": {},
   "outputs": [],
   "source": [
    "#56)How can you pick a random item from a range?\n",
    "\n",
    "import random as r\n",
    "\n",
    "r.choice(range(10,100))\n"
   ]
  },
  {
   "cell_type": "code",
   "execution_count": null,
   "id": "bb55d7e4",
   "metadata": {},
   "outputs": [],
   "source": [
    "#57)How can you get a random number in python?\n",
    "\n",
    "import random \n",
    "n=random.random()\n",
    "\n",
    "print(n)"
   ]
  },
  {
   "cell_type": "code",
   "execution_count": null,
   "id": "ea389dbd",
   "metadata": {},
   "outputs": [],
   "source": [
    "#58)How will you set the starting value in generating random numbers?\n",
    "\n",
    "import random\n",
    "for i in range(1):\n",
    "    print(random.randint(60000000000,99999999999))\n"
   ]
  },
  {
   "cell_type": "code",
   "execution_count": null,
   "id": "dfd9d370",
   "metadata": {},
   "outputs": [],
   "source": [
    "#58)How will you randomizes the items of a list in place?\n",
    "import random\n",
    "n=[1,2,3,4,5,6]\n",
    "random.choice(n)\n"
   ]
  },
  {
   "cell_type": "code",
   "execution_count": null,
   "id": "7a1e273a",
   "metadata": {},
   "outputs": [],
   "source": [
    "#59)Write a Python program to convert degree to radian.\n",
    "pi=22/7\n",
    "degree=float(input(\"enter input in degree\"))\n",
    "radian=degree*pi/180\n",
    "print(\"the value of radian is :\",radian)\n"
   ]
  },
  {
   "cell_type": "code",
   "execution_count": null,
   "id": "150451c4",
   "metadata": {},
   "outputs": [],
   "source": [
    "#60)Write a Python program to calculate the area of a trapezoid.\n",
    "base1=5\n",
    "base2=6\n",
    "height=float(input(\"height of trapezoid: \"))\n",
    "basel=float(input(\"base one value: \"))\n",
    "base2=float(input(\"base two value: \"))\n",
    "area=0.5*((base1+base2) / 2) * height\n",
    "print(\"area is : \",area)"
   ]
  },
  {
   "cell_type": "code",
   "execution_count": null,
   "id": "728a9d0f",
   "metadata": {},
   "outputs": [],
   "source": [
    "#61)Write a Python program to calculate the area of a parallelogram.\n",
    "\n",
    "base= float(input('enter in length of base'))\n",
    "height= float(input('enter in measurement of hight:'))\n",
    "area=base*height\n",
    "print(\"area is :\", area)\n",
    "\n"
   ]
  },
  {
   "cell_type": "code",
   "execution_count": null,
   "id": "b73370b5",
   "metadata": {},
   "outputs": [],
   "source": [
    "#62)Write a Python program to calculate surface volume and area of a cylinder.\n",
    "\n",
    "pi=22/7\n",
    "height= float(input('enter in cylinder of hight:'))\n",
    "radian= float(input('radius of cylinder:'))\n",
    "volume= pi*radian*radian*height\n",
    "surface_area=((2*pi*radian)*height )+((pi*radian**2)*2)\n",
    "print(\"volume is :\" ,volume)\n",
    "print(\"surface Area is : \",surface_area)\n"
   ]
  },
  {
   "cell_type": "code",
   "execution_count": null,
   "id": "18ddc2f0",
   "metadata": {},
   "outputs": [],
   "source": [
    "#63)Write a Python program to returns sum of all divisors of a number.\n",
    "\n",
    "def sum_div(number):\n",
    "    divisors = [1]\n",
    "    for i in range(2, number):\n",
    "        if (number % i)==0:\n",
    "            divisors.append(i)\n",
    "    return sum(divisors)\n",
    "print(sum_div(8))\n",
    "print(sum_div(5))\n"
   ]
  },
  {
   "cell_type": "code",
   "execution_count": null,
   "id": "59aa0f90",
   "metadata": {},
   "outputs": [],
   "source": [
    "#63)Write a Python program to find the maximum and minimum numbers from the specified decimal numbers.\n",
    "\n",
    "from decimal import *\n",
    "data=list(map(Decimal,'2.45 2.60 2.45 3.45 2.00 00.4 7.25'.split() ))\n",
    "print(\"maximum: \",max(data))\n",
    "print(\"minimum: \",min(data))"
   ]
  },
  {
   "cell_type": "code",
   "execution_count": null,
   "id": "3807c5c5",
   "metadata": {},
   "outputs": [],
   "source": [
    "#64] atm code\n",
    "\n",
    "user = {\n",
    "    'pin':5678,\n",
    "    'balance':100000\n",
    "}\n",
    "\n",
    "def widthdraw_cash():\n",
    "    while True:\n",
    "         amount = int(input(\"Enter the amount of money you want to widthdraw: \"))\n",
    "        if amount > user['balance']:\n",
    "            print(\" you dont have sufficient balance to make this widthdrawal\")\n",
    "        else:\n",
    "            user['balance'] = user['balance'] - amount\n",
    "            print(f\"{amount} Dollars successfully widthdrawn your remaining balance is {user['balance']} Dollars\")\n",
    "            print('')\n",
    "            return False\n",
    "\n",
    "def balance_enquiry():\n",
    "    print(f\"Total balance {user['balance']} Dollars\")\n",
    "    print('')\n",
    "\n",
    "\n",
    "is_quit = False\n",
    "\n",
    "print('')\n",
    "print(\"Welcome to the Pythondex ATM\")\n",
    "\n",
    "pin = int(input('Please enter your four digit pin: '))\n",
    "\n",
    "if pin == user['pin']:\n",
    "    while is_quit == False:\n",
    "        print(\"what do you want to do\")\n",
    "        print(\" Enter 1 to Widthdraw Cash \\n Enter 2 for Balance Enquiry \\n Enter 3 to Quit\")\n",
    "\n",
    "        query = int(input(\"Enter the number corresponding to the activity you want to do: \"))\n",
    "\n",
    "        if query == 1:\n",
    "            widthdraw_cash()\n",
    "        elif query == 2:\n",
    "            balance_enquiry()\n",
    "        elif query == 3:\n",
    "            is_quit = True\n",
    "\n",
    "        else:\n",
    "            print(\"Please enter a correct value shown\")\n",
    "else:\n",
    "    print(\"Entered wrong pin\")\n"
   ]
  },
  {
   "cell_type": "code",
   "execution_count": null,
   "id": "745fb4b2",
   "metadata": {},
   "outputs": [],
   "source": []
  }
 ],
 "metadata": {
  "kernelspec": {
   "display_name": "Python 3 (ipykernel)",
   "language": "python",
   "name": "python3"
  },
  "language_info": {
   "codemirror_mode": {
    "name": "ipython",
    "version": 3
   },
   "file_extension": ".py",
   "mimetype": "text/x-python",
   "name": "python",
   "nbconvert_exporter": "python",
   "pygments_lexer": "ipython3",
   "version": "3.11.5"
  }
 },
 "nbformat": 4,
 "nbformat_minor": 5
}
