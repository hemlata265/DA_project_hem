{
 "cells": [
  {
   "cell_type": "code",
   "execution_count": 2,
   "id": "6701b879",
   "metadata": {},
   "outputs": [
    {
     "name": "stdout",
     "output_type": "stream",
     "text": [
      "Enter  the number 3\n",
      "Number is positive\n"
     ]
    }
   ],
   "source": [
    "              ## Module-2##\n",
    "\n",
    "## 1. write a python program to chack if a number is postive, negative or zero ##\n",
    "\n",
    "num =int(input('Enter  the number '))\n",
    "\n",
    "if num > 0:\n",
    "    print(\"Number is positive\")\n",
    "elif num == 0:\n",
    "    print(\"Number is zero\")\n",
    "else:\n",
    "    print(\"Number is negative \")\n"
   ]
  },
  {
   "cell_type": "code",
   "execution_count": 6,
   "id": "651c0868",
   "metadata": {},
   "outputs": [
    {
     "name": "stdout",
     "output_type": "stream",
     "text": [
      "Enter number 5\n",
      "5 factorial is 120\n"
     ]
    }
   ],
   "source": [
    "## 2. write a phython program to get the factorial number of given number.\n",
    "\n",
    "num=int(input(\"Enter number \"))\n",
    "n1=num\n",
    "fac=1\n",
    "while (num>0):\n",
    "      fac=fac*num\n",
    "      num=num-1\n",
    "print(f'{n1} factorial is',fac)\n",
    "      "
   ]
  },
  {
   "cell_type": "code",
   "execution_count": 10,
   "id": "1e2dd652",
   "metadata": {},
   "outputs": [
    {
     "name": "stdout",
     "output_type": "stream",
     "text": [
      "enter number6\n",
      "1\n",
      "2\n",
      "3\n",
      "5\n",
      "8\n",
      "13\n"
     ]
    }
   ],
   "source": [
    "## 3. write a python program to get the fibonacci of given range.\n",
    "\n",
    "n=int(input(\"enter number \"))\n",
    "num1=0\n",
    "num2=1\n",
    "next_num=num2\n",
    "count=1\n",
    "\n",
    "while count<=n:\n",
    "    print(next_num)\n",
    "    count+=1\n",
    "    num1=num2\n",
    "    num2=next_num\n",
    "    next_num=num1+num2\n",
    "    print\n"
   ]
  },
  {
   "cell_type": "code",
   "execution_count": null,
   "id": "4f659f57",
   "metadata": {},
   "outputs": [],
   "source": [
    "## 4. how memory in managed in python?\n",
    "## Ans: In python memory management is handled by a private heap space.the heap is a region of memory where objects are stored and managed.python's memory memory takes care of allocating memory for new objects and freeing memory for objects that are nolonger in use.\n",
    "        \n",
    "\n"
   ]
  },
  {
   "cell_type": "code",
   "execution_count": 11,
   "id": "a9517e0e",
   "metadata": {},
   "outputs": [],
   "source": [
    "##5. what is the purpose contiune statement in python?\n",
    "## ans:Contiune statement in python is used to skip the remaining  code inside a loop for  the current iteration only.\n",
    "#       Pass statement in python is is used when a statement or condition is required to be present in the program,but we don't want any code to execute."
   ]
  },
  {
   "cell_type": "code",
   "execution_count": 12,
   "id": "b917968d",
   "metadata": {},
   "outputs": [
    {
     "name": "stdout",
     "output_type": "stream",
     "text": [
      "enter the value for a 3\n",
      "enter the value for b 7\n",
      "after swapping\n",
      "value of a: 7\n",
      "value of b: 3\n"
     ]
    }
   ],
   "source": [
    "## 6.write a python program that swap number with temp variable and  without temp veriable.\n",
    "#swapping with temp variable\n",
    "\n",
    "a=int(input(\"enter the value for a \"))\n",
    "b=int(input(\"enter the value for b \"))\n",
    "temp=a\n",
    "a=b\n",
    "b=temp\n",
    "print(\"after swapping\")\n",
    "print(\"value of a:\",a)\n",
    "print(\"value of b:\",b)"
   ]
  },
  {
   "cell_type": "code",
   "execution_count": 13,
   "id": "ac62dbb1",
   "metadata": {},
   "outputs": [
    {
     "name": "stdout",
     "output_type": "stream",
     "text": [
      "enter the value for a 4\n",
      "enter the value for b 6\n",
      "after swapping value of a: 6\n",
      "after swappingvalue of b: 4\n"
     ]
    }
   ],
   "source": [
    "## 6 without  temp variable\n",
    "\n",
    "a=int(input(\"enter the value for a \"))\n",
    "b=int(input(\"enter the value for b \"))\n",
    "a=a+b\n",
    "b=a-b\n",
    "a=a-b\n",
    "\n",
    "print(\"after swapping value of a:\",a)\n",
    "print(\"after swappingvalue of b:\",b)\n"
   ]
  },
  {
   "cell_type": "code",
   "execution_count": 19,
   "id": "b38a867e",
   "metadata": {},
   "outputs": [
    {
     "name": "stdout",
     "output_type": "stream",
     "text": [
      "enter the number 1\n",
      "number is odd \n"
     ]
    }
   ],
   "source": [
    "#7)write a python pprogram to find whether a given number is even or odd,print out an appropriate massege to the user.\n",
    "\n",
    "num=int(input(\"enter the number \"))\n",
    "if(num==0):\n",
    "    print(\"number is addition idntity number\")\n",
    "elif(num%2==0):\n",
    "    print(\"number is even\")\n",
    "else:\n",
    "    print(\"number is odd \")"
   ]
  },
  {
   "cell_type": "code",
   "execution_count": 30,
   "id": "23b0012b",
   "metadata": {},
   "outputs": [
    {
     "name": "stdout",
     "output_type": "stream",
     "text": [
      "enter the charactert\n",
      "not vowel\n"
     ]
    }
   ],
   "source": [
    "#8) write a python program to test whether a passed letter is a vowel or not.\n",
    "\n",
    "x=input(\"enter the character :\")\n",
    "for i in x:\n",
    "    if i==\"a\"or i==\"e\"or i==\"i\"or i==\"o\"or i==\"u\":\n",
    "        print(\"Enter character is vowel\")\n",
    "    else:\n",
    "        print(\"not vowel\")\n",
    "        \n",
    "\n"
   ]
  },
  {
   "cell_type": "code",
   "execution_count": 38,
   "id": "da6f60e3",
   "metadata": {},
   "outputs": [
    {
     "name": "stdout",
     "output_type": "stream",
     "text": [
      "enter the number x:5\n",
      "enter the number y:5\n",
      "enter the number z:5\n",
      "sum= 0\n"
     ]
    }
   ],
   "source": [
    "## 9. write a python program to sum of three given integer.however ,if two  vlaue are equle sum will be zero\n",
    "x=int(input(\"enter the number x:\"))\n",
    "y=int(input(\"enter the number y:\"))\n",
    "z=int(input(\"enter the number z:\"))\n",
    "if x==y or x==z :\n",
    "        sum=0\n",
    "    \n",
    "else:\n",
    "    sum=x+y+z\n",
    "print(\"sum=\",sum)\n",
    "    \n",
    "   "
   ]
  },
  {
   "cell_type": "code",
   "execution_count": 3,
   "id": "6526b0e7",
   "metadata": {},
   "outputs": [
    {
     "name": "stdout",
     "output_type": "stream",
     "text": [
      "True\n",
      "False\n"
     ]
    }
   ],
   "source": [
    "## 11.write a python program that will return true if the two given integer value are equal or their sum of difference is 5.\n",
    "\n",
    "def sum (x,y):\n",
    "    if x==y or abs(x-y)==5 or (x+y)==5:\n",
    "        return True\n",
    "    else:\n",
    "        return False\n",
    "print(sum(10,15))\n",
    "print(sum(3,9))"
   ]
  },
  {
   "cell_type": "code",
   "execution_count": 8,
   "id": "2f74396a",
   "metadata": {},
   "outputs": [
    {
     "name": "stdout",
     "output_type": "stream",
     "text": [
      "enter the number2\n",
      "3\n"
     ]
    }
   ],
   "source": [
    "## 11 write a python program tto su, of the first n positive inrwgeras.\n",
    "\n",
    "n=int(input(\"enter the number\"))\n",
    "\n",
    "sum = (n*(n+1))//2\n",
    "print(sum)"
   ]
  },
  {
   "cell_type": "code",
   "execution_count": 11,
   "id": "06d633fd",
   "metadata": {},
   "outputs": [
    {
     "name": "stdout",
     "output_type": "stream",
     "text": [
      "enter the string for count charactergreham\n",
      "6\n"
     ]
    }
   ],
   "source": [
    "## 12.write a python program to caclulet the lenth of a string.\n",
    "str=input(\"enter the string for count character\")\n",
    "##str=\"Hemlata\"\n",
    "count=0\n",
    "while str[count:]:\n",
    "    count=count+1\n",
    "print(count)\n",
    "\n",
    "\n"
   ]
  },
  {
   "cell_type": "code",
   "execution_count": 15,
   "id": "1d6f9d18",
   "metadata": {},
   "outputs": [
    {
     "name": "stdout",
     "output_type": "stream",
     "text": [
      "enter the stringghhhhty\n",
      "{'g': 1, 'h': 4, 't': 1, 'y': 1}\n"
     ]
    }
   ],
   "source": [
    "## 13.wrtie a  program to count the number of charectars in a string.\n",
    "\n",
    "str1 = input(\"enter the string\")\n",
    "d1=dict()\n",
    "for c in str1:\n",
    "    if c in d1:\n",
    "        d1[c] = d1[c]+1\n",
    "    else:\n",
    "         d1[c]=1\n",
    "print(d1)\n",
    "\n"
   ]
  },
  {
   "cell_type": "code",
   "execution_count": null,
   "id": "d0d8cc7f",
   "metadata": {},
   "outputs": [],
   "source": [
    "## 14.what are nagetive indexes and why are they  uesd?\n",
    "## Ans.Negative indexes can be useful for accessing elements from the end of a data structure without having to know the exact lenght of the data structure\n",
    "\n",
    "\n",
    "\n",
    "  "
   ]
  },
  {
   "cell_type": "code",
   "execution_count": 13,
   "id": "009d6bd3",
   "metadata": {},
   "outputs": [
    {
     "name": "stdout",
     "output_type": "stream",
     "text": [
      "lanko\n",
      "heta\n",
      "lanko heta\n"
     ]
    }
   ],
   "source": [
    "##17 write a python program to get a singal string from two given string,speparated by a spece and swap the first two chracters of each string.\n",
    "s1='henko'\n",
    "s2='lata'\n",
    "s11=s1.replace(s1[0:2],s2[0:2])\n",
    "s22=s2.replace(s2[0:2],s1[0:2])\n",
    "##s1=temp[0:2]+s2[2:]\n",
    "\n",
    "print(s11)\n",
    "print(s22)\n",
    "print(s11+\" \"+s22)\n"
   ]
  },
  {
   "cell_type": "code",
   "execution_count": 18,
   "id": "803270ad",
   "metadata": {},
   "outputs": [
    {
     "name": "stdout",
     "output_type": "stream",
     "text": [
      "Enter the stringgoo\n",
      "gooing\n"
     ]
    }
   ],
   "source": [
    "## 18 Write a Python program to add 'ing' at the end of a given string (length\n",
    "#should be at least 3). If the given string already ends with 'ing' then add 'ly'\n",
    "#insteadif the string length of the given string is less than 3, leave it\n",
    "#unchanged.\n",
    "str=input(\"Enter the string\")\n",
    "##str=\"abcing\"\n",
    "if len(str) >= 3:\n",
    "    if str.endswith('ing'):\n",
    "        str +='ly'\n",
    "    else:\n",
    "        str += 'ing'\n",
    "print(str)"
   ]
  },
  {
   "cell_type": "code",
   "execution_count": 20,
   "id": "d4d4cd6e",
   "metadata": {},
   "outputs": [
    {
     "name": "stdout",
     "output_type": "stream",
     "text": [
      "aamir is good\n"
     ]
    }
   ],
   "source": [
    "## 19 Write a Python program to find the first appearance of the substring 'not'\n",
    "#and 'poor' from given string, if 'not' follows the 'poor', replace the whole\n",
    "#'not'...'poor'substring with 'good'. Return the resulting string.\n",
    "\n",
    "str='aamir is not that poor'\n",
    "i_not = str.find(\"not\")\n",
    "i_poor= str.find(\"poor\")\n",
    "\n",
    "if i_not<i_poor:\n",
    "    print(str[:i_not]+\"good\")\n",
    "        \n",
    "\n"
   ]
  },
  {
   "cell_type": "code",
   "execution_count": 23,
   "id": "1447aa9a",
   "metadata": {},
   "outputs": [
    {
     "name": "stdout",
     "output_type": "stream",
     "text": [
      "longest string is :yesha mam tops\n"
     ]
    }
   ],
   "source": [
    "## 20.Write a Python function that takes a list of words and returns the length\n",
    "#of the longest one.\n",
    "\n",
    "list1=['hem','lata','parmar','dahyabhai','yesha mam tops']\n",
    "lengths=[len(s) for s in list1]\n",
    "long_index=lengths.index(max(lengths))\n",
    "longest_string=list1[long_index]\n",
    "print(\"longest string is :\"+longest_string)\n",
    "\n",
    "\n"
   ]
  },
  {
   "cell_type": "code",
   "execution_count": 57,
   "id": "b6ef96b5",
   "metadata": {},
   "outputs": [
    {
     "name": "stdout",
     "output_type": "stream",
     "text": [
      "enter your string ==hhjjkkll\n",
      "llkkjjhh\n"
     ]
    }
   ],
   "source": [
    "## 21.Write a Python function to reverses a string if its length is a multiple of 4.\n",
    "\n",
    "def reverse_string(s1):\n",
    "    if (len(s1)%4==0):\n",
    "        print(s1[::-1])\n",
    "       \n",
    "\n",
    "s1=input(\"enter your string ==\")\n",
    "reverse_string(s1)\n",
    "\n",
    "\n",
    "\n",
    "\n",
    "\n"
   ]
  },
  {
   "cell_type": "code",
   "execution_count": 11,
   "id": "c0282a38",
   "metadata": {},
   "outputs": [
    {
     "name": "stdout",
     "output_type": "stream",
     "text": [
      "enter the stringhjklop\n",
      "6\n",
      "hjop\n"
     ]
    }
   ],
   "source": [
    "#22) Write a Python program to get a string made of the first 2 and the last 2\n",
    "#chars from a given a string. Ifthe string length islessthan 2,return instead\n",
    "#of the empty string.\n",
    "#o Sample String:w3resource'\n",
    "#o Expected Result: 'w3ce'\n",
    "#o Sample String: 'w3'\n",
    "#o Expected Result: 'w3w3'\n",
    "#o Sample String: ' w'\n",
    "#o Expected Result: Empty String\n",
    "# Write a Python function to insert a string.\n",
    "str=input(\"enter the string\")\n",
    "s1=str\n",
    "l1=len(str)\n",
    "print(l1)\n",
    "if(l1==1):\n",
    "    print(\"empty\")\n",
    "elif(l1==2):\n",
    "    print(str+str)\n",
    "else:\n",
    "    print((str[0:2]+s1[-2::]))"
   ]
  },
  {
   "cell_type": "code",
   "execution_count": 14,
   "id": "61bae9bb",
   "metadata": {},
   "outputs": [
    {
     "name": "stdout",
     "output_type": "stream",
     "text": [
      "h!i! !h!o!w! !a!r!e! !y!o!u\n"
     ]
    }
   ],
   "source": [
    "#23)Write a Python function to insert a string in the middle of a string.\n",
    "\n",
    "\n",
    "str='hi how are you'\n",
    "\n",
    "\n",
    "x='!'.join(str)\n",
    "\n",
    "print(x)"
   ]
  },
  {
   "cell_type": "code",
   "execution_count": null,
   "id": "7a49c985",
   "metadata": {},
   "outputs": [],
   "source": []
  }
 ],
 "metadata": {
  "kernelspec": {
   "display_name": "Python 3 (ipykernel)",
   "language": "python",
   "name": "python3"
  },
  "language_info": {
   "codemirror_mode": {
    "name": "ipython",
    "version": 3
   },
   "file_extension": ".py",
   "mimetype": "text/x-python",
   "name": "python",
   "nbconvert_exporter": "python",
   "pygments_lexer": "ipython3",
   "version": "3.11.5"
  }
 },
 "nbformat": 4,
 "nbformat_minor": 5
}
