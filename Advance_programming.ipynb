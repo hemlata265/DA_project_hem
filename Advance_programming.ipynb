{
 "cells": [
  {
   "cell_type": "markdown",
   "id": "eb9d1827",
   "metadata": {},
   "source": [
    "#  Module 4 #"
   ]
  },
  {
   "cell_type": "code",
   "execution_count": 5,
   "id": "1384d67c",
   "metadata": {},
   "outputs": [],
   "source": [
    "##What is File function in python? What is keywords to create and write file.\n",
    "#File handling: The key function for working with files in python is the open()function. the open() function\n",
    "#takes two parameters:filename,and mode\n",
    "\n",
    "f=open(\"mlm.txt\",\"w\")\n"
   ]
  },
  {
   "cell_type": "code",
   "execution_count": 8,
   "id": "83c43df3",
   "metadata": {},
   "outputs": [
    {
     "name": "stdout",
     "output_type": "stream",
     "text": [
      "hi hemlat how r u\n"
     ]
    }
   ],
   "source": [
    "##Write a Python program to read an entire text file.\n",
    "f=open(\"mlm1.text\",\"r\")\n",
    "print(f.read())\n",
    "f.close()"
   ]
  },
  {
   "cell_type": "code",
   "execution_count": 4,
   "id": "44056967",
   "metadata": {},
   "outputs": [
    {
     "name": "stdout",
     "output_type": "stream",
     "text": [
      "\n",
      "\t here is new text.....from navsari\n",
      "hi hemlat how r ufrom navsarifrom navsari\n"
     ]
    }
   ],
   "source": [
    "## Write a Python program to append text to a file and display the text.\n",
    "f=open(\"mlm1.text\",\"a\")\n",
    "str=input(\"\\n\\t here is new text.....\")\n",
    "f.write(str)\n",
    "f=open(\"mlm1.text\",\"r\")\n",
    "print(f.read())\n",
    "f.close()"
   ]
  },
  {
   "cell_type": "code",
   "execution_count": 13,
   "id": "dd6b255a",
   "metadata": {},
   "outputs": [
    {
     "name": "stdout",
     "output_type": "stream",
     "text": [
      "\n",
      "enter lines to read2\n",
      "['Iâ€™m not expert in cooking but I really enjoy cooking. I started cooking after my marriege. Iâ€™m always trying to learn how to cook new things.  I love making food and sharing it with family and friends.\\n']\n",
      "[' \\n', '\\n']\n"
     ]
    }
   ],
   "source": [
    "## Write a Python program to read first n lines of a file\n",
    "n=int(input(\"\\nenter lines to read\"))\n",
    "f=open(\"New Text Document.txt\",\"r\")\n",
    "for i in range(n):\n",
    "    print(f.readlines(n))"
   ]
  },
  {
   "cell_type": "code",
   "execution_count": 3,
   "id": "dbd508ae",
   "metadata": {},
   "outputs": [
    {
     "name": "stdout",
     "output_type": "stream",
     "text": [
      "11 \n",
      "\n",
      "12 activation key\n",
      "\n",
      "13 NP6M4-AGCG-VDRV-V2RU-23T6-LT6DC\n"
     ]
    }
   ],
   "source": [
    "## Write a Python program to read last n lines of a file.\n",
    "n=3\n",
    "f=open(\"New Text Document.txt\",\"r\")\n",
    "lines=f.readlines()\n",
    "total_length=len(lines)\n",
    "threshold=total_length-n\n",
    "\n",
    "for i,v in enumerate(lines):\n",
    "    if i>=threshold:\n",
    "        print(i,v)\n",
    "       \n"
   ]
  },
  {
   "cell_type": "code",
   "execution_count": 20,
   "id": "f252ed35",
   "metadata": {},
   "outputs": [
    {
     "name": "stdout",
     "output_type": "stream",
     "text": [
      "hi hemlat how r u\n",
      "\n",
      "from navsarifrom navsari\n",
      "\n",
      "tops tecq\n",
      "\n",
      "projectof python\n",
      "\n",
      "submitted\n"
     ]
    }
   ],
   "source": [
    "## Write a Python program to read a file line by line and store it into a list\n",
    "\n",
    "f=open(\"mlm1.text\",\"r\")\n",
    "l=list()\n",
    "contain_list=f.readlines()\n",
    "total_length=len(contain_list)\n",
    "\n",
    "for l in  contain_list:\n",
    "    print(l)\n",
    "\n",
    "\n"
   ]
  },
  {
   "cell_type": "code",
   "execution_count": 21,
   "id": "c8bb5fc6",
   "metadata": {},
   "outputs": [
    {
     "name": "stdout",
     "output_type": "stream",
     "text": [
      "['hi hemlat how r u\\n', 'from navsarifrom navsari\\n', 'tops tecq\\n', 'projectof python\\n', 'submitted']\n"
     ]
    }
   ],
   "source": [
    "## Write a Python program to read a file line by line store it into a variable\n",
    "f=open(\"mlm1.text\",\"r\")\n",
    "data=f.readlines()\n",
    "print(data)\n"
   ]
  },
  {
   "cell_type": "code",
   "execution_count": 27,
   "id": "4b2daa5d",
   "metadata": {},
   "outputs": [
    {
     "name": "stdout",
     "output_type": "stream",
     "text": [
      "11\n"
     ]
    }
   ],
   "source": [
    "## Write a python program to find the longest words.\n",
    "f=open(\"mlm1.text\",\"r\")\n",
    "words=f.read().split()\n",
    "max_len=len(max(words,key=len))\n",
    "print(max_len)\n"
   ]
  },
  {
   "cell_type": "code",
   "execution_count": 28,
   "id": "e13ca6b7",
   "metadata": {},
   "outputs": [
    {
     "name": "stdout",
     "output_type": "stream",
     "text": [
      "5\n"
     ]
    }
   ],
   "source": [
    "## Write a Python program to count the number of lines in a text file.\n",
    "f=open(\"mlm1.text\",\"r\")\n",
    "lines=len(f.readlines())\n",
    "print(lines)\n"
   ]
  },
  {
   "cell_type": "code",
   "execution_count": 29,
   "id": "9484abe9",
   "metadata": {},
   "outputs": [
    {
     "name": "stdout",
     "output_type": "stream",
     "text": [
      "total number of words:13\n"
     ]
    }
   ],
   "source": [
    "## Write a Python program to count the frequency of words in a file.\n",
    "f=open(\"mlm1.text\",\"r\")\n",
    "count=0\n",
    "\n",
    "for line in f:\n",
    "    word=line.split(\" \")\n",
    "    count+=len(word)\n",
    "print(\"total number of words:\"+str(count))"
   ]
  },
  {
   "cell_type": "code",
   "execution_count": 33,
   "id": "23dc8b44",
   "metadata": {},
   "outputs": [
    {
     "data": {
      "text/plain": [
       "'hemlata\\nparmar\\nkosambiya\\nshailesh\\n'"
      ]
     },
     "execution_count": 33,
     "metadata": {},
     "output_type": "execute_result"
    }
   ],
   "source": [
    "## Write a Python program to write a list to a file.\n",
    "l=[\"hemlata\",\"parmar\",\"kosambiya\",\"shailesh\"]\n",
    "f=open(\"list.txt\",\"w\")\n",
    "for i in l:\n",
    "    f.write(i+\"\\n\")\n",
    "f=open(\"list.txt\",\"r\")\n",
    "f.read()\n",
    "\n"
   ]
  },
  {
   "cell_type": "code",
   "execution_count": 37,
   "id": "8d38f5bb",
   "metadata": {},
   "outputs": [
    {
     "data": {
      "text/plain": [
       "'hemlata\\nparmar\\nkosambiya\\nshailesh\\nhemlata\\nparmar\\nkosambiya\\nshailesh\\n'"
      ]
     },
     "execution_count": 37,
     "metadata": {},
     "output_type": "execute_result"
    }
   ],
   "source": [
    "## Write a Python program to copy the contents of a file to another file.\n",
    "f=open(\"list.txt\",\"r\")\n",
    "c=open(\"copy.txt\",\"a\")\n",
    "for line in f:\n",
    "    c.write(line)\n",
    "c1=open(\"copy.txt\",\"r\")\n",
    "c1.read()\n",
    "\n",
    "\n"
   ]
  },
  {
   "cell_type": "code",
   "execution_count": null,
   "id": "8a955f93",
   "metadata": {},
   "outputs": [],
   "source": [
    "## Explain Exception handling? What is an Error in Python?\n",
    "#Exception handling in python is a process of resolving errors that occur in a program\n",
    "#this involves catching exceptions,understanding what caused them, and then responding\n",
    "#accordingly.exceptions are errors that occur at runtime when the programm is being executed\n",
    "#ERROR in python is an issue in program that prevent the programm from completing its task.\n"
   ]
  },
  {
   "cell_type": "code",
   "execution_count": null,
   "id": "88951056",
   "metadata": {},
   "outputs": [],
   "source": [
    "## How many except statements can a try-except block have? Name Some built-in exception classes:\n",
    "#there has to be at lest one except statement\n",
    "# An exception is an unexpected event,which occurs during the execution of the programm.it is also known \n",
    "# as a run time error.when that error occurs,python generates an exception during the execution and \n",
    "#that can be handled,which prevents your program from intrrupting.\n",
    "#built-in exception classees are\n",
    "# 1 indentationError->raised when indentation is not correct\n",
    "# 2 indexError->raised when an index of a sequence does not exist\n",
    "# 3 keyError ->raised when a key does not exist in a dictionary\n",
    "# 4 NameError-> raised when a variable does not exist\n"
   ]
  },
  {
   "cell_type": "code",
   "execution_count": null,
   "id": "e9ed53b1",
   "metadata": {},
   "outputs": [],
   "source": [
    "## When will the else part of try-except-else be executed?\n",
    "# the else part is executed when no exception occurs"
   ]
  },
  {
   "cell_type": "code",
   "execution_count": null,
   "id": "2de322da",
   "metadata": {},
   "outputs": [],
   "source": [
    "## Can one block of except statements handle multiple exception?\n",
    "# yes, a single block of except statements in python can handle multiple exceptions"
   ]
  },
  {
   "cell_type": "code",
   "execution_count": null,
   "id": "e37a76b4",
   "metadata": {},
   "outputs": [],
   "source": [
    "## When is the finally block executed?\n",
    "#the finally block always executes when the try block exits. that ensures that the finally block \n",
    "#is executed even if an unexpected exception occurs.\n"
   ]
  },
  {
   "cell_type": "code",
   "execution_count": null,
   "id": "bd5eafc8",
   "metadata": {},
   "outputs": [],
   "source": [
    "## What happens when „1‟== 1 is executed?\n",
    "#it simply evalutes to FALSE and does not raise any exception."
   ]
  },
  {
   "cell_type": "code",
   "execution_count": 1,
   "id": "7a17b4dd",
   "metadata": {},
   "outputs": [
    {
     "name": "stdout",
     "output_type": "stream",
     "text": [
      "can't divide by zero\n",
      "Always Executed\n"
     ]
    }
   ],
   "source": [
    "## How Do You Handle Exceptions With Try/Except/Finally In Python? Explain with coding snippets.\n",
    "# If there is no exception, then only try clause will run, except clause will not get executed.\n",
    "#if any exception occurs, the try clause will be skipped and except clause will run.\n",
    "\n",
    "try:\n",
    "    i=5//0\n",
    "    print(i)\n",
    "except ZeroDivisionError:\n",
    "    print(\"can't divide by zero\")\n",
    "finally:\n",
    "    print(\"Always Executed\")"
   ]
  },
  {
   "cell_type": "code",
   "execution_count": 17,
   "id": "05ad8a01",
   "metadata": {},
   "outputs": [
    {
     "name": "stdout",
     "output_type": "stream",
     "text": [
      "enter a number :5\n",
      "odd number\n"
     ]
    }
   ],
   "source": [
    "## Write python program that user to enter only odd numbers, else will raise an exception.\n",
    "try :\n",
    "    num=int(input(\"enter a number :\"))\n",
    "    if num%2!=0:\n",
    "        print(\"odd number\")\n",
    "except :\n",
    "    print(\"the enter number is not odd\")"
   ]
  },
  {
   "cell_type": "code",
   "execution_count": null,
   "id": "394f8fe2",
   "metadata": {},
   "outputs": [],
   "source": [
    "## What are oops concepts? Is multiple inheritance supported in java\n",
    "# In python object_oriuented programming(OOPS)is a programmingparadigm that uses \n",
    "#objects and classes in programming.it aims to implement real_word entities like in heritance\n",
    "#polymorphisam,encapsulation.  the main concept of oops in python is to bind tge data and the function \n",
    "#that work  together as a single unit so that no other part of the code can acess this data\n",
    "# multiple inheritance is not supported in java.\n"
   ]
  },
  {
   "cell_type": "code",
   "execution_count": null,
   "id": "8a6d5538",
   "metadata": {},
   "outputs": [],
   "source": [
    "##How to Define a Class in Python? What Is Self? Give An Example Of A Python Class\n",
    "#to create class ,use keyword  class:\n",
    "#syntax:create  class  class name:\n",
    "                # statement\n",
    "# the self parameter is a reference to the current instance of the class and is \n",
    "#used to acess variable that belongs to the class"
   ]
  },
  {
   "cell_type": "code",
   "execution_count": 18,
   "id": "e3fad26a",
   "metadata": {},
   "outputs": [
    {
     "name": "stdout",
     "output_type": "stream",
     "text": [
      "22\n"
     ]
    }
   ],
   "source": [
    "##Write a Python class named Rectangle constructed by a length and width and a method which will compute the area of a rectangle\n",
    "\n",
    "class rectangle():\n",
    "    def __init__(self,l,w):\n",
    "        self.length=l\n",
    "        self.width=w\n",
    "    def rectangle_area(self):\n",
    "        return self.length*self.width\n",
    "new_rect=rectangle(11,2)\n",
    "print(new_rect.rectangle_area())"
   ]
  },
  {
   "cell_type": "code",
   "execution_count": 20,
   "id": "8572cfc0",
   "metadata": {},
   "outputs": [
    {
     "name": "stdout",
     "output_type": "stream",
     "text": [
      "113.04\n",
      "37.68\n"
     ]
    }
   ],
   "source": [
    "## Write a Python class named Circle constructed by a radius and two methods which will compute the area and the perimeter of a circle\n",
    "class circle():\n",
    "    def __init__(self,r):\n",
    "        self.radius=r\n",
    "    def area(self):\n",
    "        return self.radius**2*3.14\n",
    "    def perimeter(self):\n",
    "        return 2*self.radius*3.14\n",
    "new_cir=circle(6)\n",
    "print(new_cir.area())\n",
    "print(new_cir.perimeter())\n",
    "    "
   ]
  },
  {
   "cell_type": "code",
   "execution_count": null,
   "id": "8cb589c5",
   "metadata": {},
   "outputs": [],
   "source": [
    "## Explain Inheritance in Python with an example? What is init? Or What Is A Constructor In Python?\n",
    "# inheritance is a way of representing real word relationships between the two.\n",
    "#example: car,bus,bike- all of these come under category called vehicle.that means they have inherited\n",
    "#properties of class vehicles, all rused for transportation.\n",
    "##-> init method is a special method automatically called when an object is created from a class\n",
    "#this  method  allows us to initialize an object's attributes and perform any necessary setup or initialization tasks:\n",
    "# constructor in python is a special class method for creating and initializing an object\n",
    "#instance at that class."
   ]
  },
  {
   "cell_type": "code",
   "execution_count": null,
   "id": "81e3f32a",
   "metadata": {},
   "outputs": [],
   "source": [
    "## What is Instantiation in terms of OOP terminology?\n",
    "## instantion is a core concept in object-oriented programming.its the process where you create an \n",
    "#instance of a class, which essentially means creating an object from a blueprint"
   ]
  },
  {
   "cell_type": "code",
   "execution_count": null,
   "id": "bddeecfe",
   "metadata": {},
   "outputs": [],
   "source": [
    "## What is used to check whether an object o is an instance of class A?\n",
    "# the isinstance() function checks whether an object is an instance of the class mentioned.one can \n",
    "#test if an object or variable is an instance of the type or class."
   ]
  },
  {
   "cell_type": "code",
   "execution_count": null,
   "id": "f4e304f1",
   "metadata": {},
   "outputs": [],
   "source": [
    "## What relationship is appropriate for Course and Faculty?"
   ]
  }
 ],
 "metadata": {
  "kernelspec": {
   "display_name": "Python 3 (ipykernel)",
   "language": "python",
   "name": "python3"
  },
  "language_info": {
   "codemirror_mode": {
    "name": "ipython",
    "version": 3
   },
   "file_extension": ".py",
   "mimetype": "text/x-python",
   "name": "python",
   "nbconvert_exporter": "python",
   "pygments_lexer": "ipython3",
   "version": "3.11.5"
  }
 },
 "nbformat": 4,
 "nbformat_minor": 5
}
